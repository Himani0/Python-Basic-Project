{
  "nbformat": 4,
  "nbformat_minor": 0,
  "metadata": {
    "colab": {
      "name": "Hangman game.ipynb",
      "provenance": []
    },
    "kernelspec": {
      "name": "python3",
      "display_name": "Python 3"
    },
    "language_info": {
      "name": "python"
    }
  },
  "cells": [
    {
      "cell_type": "code",
      "metadata": {
        "colab": {
          "base_uri": "https://localhost:8080/"
        },
        "id": "AOMjKLDOtL0D",
        "outputId": "f0d92e48-369d-4dbe-959a-f97a9c56ca3b"
      },
      "source": [
        "# first we have to import random to get random data from list\n",
        "import random\n",
        "\n",
        "# making list to store data\n",
        "words = [\"data\" , \"science\" , \"machine\" , \"learning\" , \"deep\" , \"statistics\" , \"regression\" , \"svm\" , \"knn\"]\n",
        "\n",
        "# using random.choice() to get random word from list\n",
        "word = random.choice(words)\n",
        "#print(word)\n",
        "print(\"Welcome! Let's play the game\")\n",
        "print(\"Guess the letters\")\n",
        "guesses = \"\"\n",
        "turn = len(word) + 3\n",
        "#print(turn)\n",
        "\n",
        "while turn > 0:\n",
        "  fail = 0\n",
        "\n",
        "  for char in word:\n",
        "    if char in guesses:\n",
        "      print(char)\n",
        "    else:\n",
        "      print(\"*\")\n",
        "      fail += 1\n",
        "  if fail == 0:\n",
        "    print(\"You win.\")\n",
        "    print(\"The word is:\", word)\n",
        "    break\n",
        "\n",
        "  guess = input(\"Guess the character:\")\n",
        "\n",
        "  guesses += guess\n",
        "\n",
        "  if guess not in word:\n",
        "    turn -= 1\n",
        "    print(\"Wrong guess.\")\n",
        "    print(f\"Now you have only {turn} more guess left.\")\n",
        "\n",
        "    if turn == 0:\n",
        "      print(\"You loose. Better luck next time.\")    "
      ],
      "execution_count": 3,
      "outputs": [
        {
          "output_type": "stream",
          "text": [
            "data\n",
            "Welcome! Let's play the game\n",
            "Guess the letters\n",
            "7\n",
            "*\n",
            "*\n",
            "*\n",
            "*\n",
            "Guess the character:t\n",
            "*\n",
            "*\n",
            "t\n",
            "*\n",
            "Guess the character:a\n",
            "*\n",
            "a\n",
            "t\n",
            "a\n",
            "Guess the character:r\n",
            "Wrong guess.\n",
            "Now you have only 6 more guess left.\n",
            "*\n",
            "a\n",
            "t\n",
            "a\n",
            "Guess the character:b\n",
            "Wrong guess.\n",
            "Now you have only 5 more guess left.\n",
            "*\n",
            "a\n",
            "t\n",
            "a\n",
            "Guess the character:d\n",
            "d\n",
            "a\n",
            "t\n",
            "a\n",
            "You win.\n",
            "The word is: data\n"
          ],
          "name": "stdout"
        }
      ]
    },
    {
      "cell_type": "code",
      "metadata": {
        "id": "PuulloLNFR17"
      },
      "source": [
        ""
      ],
      "execution_count": null,
      "outputs": []
    }
  ]
}